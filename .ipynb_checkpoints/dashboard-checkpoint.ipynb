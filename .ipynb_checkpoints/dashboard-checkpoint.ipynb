{
 "cells": [
  {
   "cell_type": "markdown",
   "metadata": {},
   "source": [
    "# Toronto Dwellings Analysis Dashboard\n",
    "\n",
    "In this notebook, you will compile the visualizations from the previous analysis into functions to create a Panel dashboard."
   ]
  },
  {
   "cell_type": "code",
   "execution_count": 32,
   "metadata": {},
   "outputs": [],
   "source": [
    "# initial imports\n",
    "import os\n",
    "import pandas as pd\n",
    "import matplotlib.pyplot as plt\n",
    "import hvplot.pandas\n",
    "import plotly.express as px\n",
    "from pathlib import Path\n",
    "from dotenv import load_dotenv"
   ]
  },
  {
   "cell_type": "code",
   "execution_count": 33,
   "metadata": {},
   "outputs": [
    {
     "name": "stderr",
     "output_type": "stream",
     "text": [
      "WARNING:param.panel_extension: A HoloViz extension was loaded previously. This means the extension is already initialized and the following Panel extensions could not be properly loaded: ['plotly']. If you are loading custom extensions with pn.extension(...) ensure that this is called before any other HoloViz extension such as hvPlot or HoloViews.\n"
     ]
    }
   ],
   "source": [
    "# Initialize the Panel Extensions (for Plotly)\n",
    "import panel as pn\n",
    "pn.extension(\"plotly\")"
   ]
  },
  {
   "cell_type": "code",
   "execution_count": 34,
   "metadata": {},
   "outputs": [],
   "source": [
    "# Read the Mapbox API key\n",
    "load_dotenv()\n",
    "map_box_api = os.getenv(\"MAPBOX_API_KEY\")\n",
    "px.set_mapbox_access_token(map_box_api)"
   ]
  },
  {
   "cell_type": "markdown",
   "metadata": {},
   "source": [
    "# Import Data"
   ]
  },
  {
   "cell_type": "code",
   "execution_count": 35,
   "metadata": {},
   "outputs": [],
   "source": [
    "# Import the CSVs to Pandas DataFrames\n",
    "file_path = Path(\"Data/toronto_neighbourhoods_census_data.csv\")\n",
    "to_data = pd.read_csv(file_path, index_col=\"year\")\n",
    "\n",
    "file_path = Path(\"Data/toronto_neighbourhoods_coordinates.csv\")\n",
    "df_neighbourhood_locations = pd.read_csv(file_path)"
   ]
  },
  {
   "cell_type": "markdown",
   "metadata": {},
   "source": [
    "- - -"
   ]
  },
  {
   "cell_type": "markdown",
   "metadata": {},
   "source": [
    "## Panel Visualizations\n",
    "\n",
    "In this section, you will copy the code for each plot type from your analysis notebook and place it into separate functions that Panel can use to create panes for the dashboard. \n",
    "\n",
    "These functions will convert the plot object to a Panel pane.\n",
    "\n",
    "Be sure to include any DataFrame transformation/manipulation code required along with the plotting code.\n",
    "\n",
    "Return a Panel pane object from each function that can be used to build the dashboard.\n",
    "\n",
    "Note: Remove any `.show()` lines from the code. We want to return the plots instead of showing them. The Panel dashboard will then display the plots."
   ]
  },
  {
   "cell_type": "markdown",
   "metadata": {},
   "source": [
    "### Global available data"
   ]
  },
  {
   "cell_type": "code",
   "execution_count": 36,
   "metadata": {},
   "outputs": [],
   "source": [
    "# Getting the data from the top 10 expensive neighbourhoods\n",
    "to_data_without_index = to_data.reset_index()\n",
    "to_data_without_year_df = to_data_without_index.drop(columns = ['year'])\n",
    "\n",
    "top_10_expensive_df = (\n",
    "    to_data\n",
    "    .groupby('neighbourhood')\n",
    "    .mean()\n",
    "    .sort_values('average_house_value',ascending = False)\n",
    "    .head(10)\n",
    ")\n",
    "\n",
    "# Calculate the mean number of dwelling types units per year\n",
    "dwell_types_per_year_df = (\n",
    "    to_data.groupby(to_data.index)['single_detached_house','apartment_five_storeys_plus','movable_dwelling','semi_detached_house','row_house','duplex','apartment_five_storeys_less','other_house']\n",
    "    .sum()\n",
    ")\n",
    "\n",
    "# Calculate the average monthly shelter costs for owned and rented dwellings\n",
    "shelter_costs_per_year_df = (\n",
    "    to_data.groupby(to_data.index)['shelter_costs_owned','shelter_costs_rented']\n",
    "    .mean()\n",
    ")\n",
    "\n",
    "\n",
    "# Neighbourhood map data \n",
    "mean_value_neigh_df = (\n",
    "    to_data_without_year_df\n",
    "    .groupby('neighbourhood')\n",
    "    .mean()\n",
    "    .sort_values('neighbourhood')\n",
    "    .reset_index()\n",
    ")\n",
    "\n",
    "avg_value_neigh_df = pd.merge(mean_value_neigh_df,df_neighbourhood_locations,how='inner',on='neighbourhood')\n",
    "\n",
    "# Avergae house value dataframe\n",
    "avg_house_value_per_year_df = (\n",
    "    to_data.groupby(to_data.index)['average_house_value']\n",
    "    .mean()\n",
    ")\n",
    "\n",
    "# House value by Neighbourhood\n",
    "avg_house_value_neigh_df  = to_data[['neighbourhood','average_house_value']].reset_index()\n",
    "\n",
    "\n",
    "# Fetch the data from all expensive neighbourhoods per year.\n",
    "cost_analysis_top_neigh_df = (\n",
    "    to_data_without_index.sort_values(\"average_house_value\", ascending=False)\n",
    "    .groupby(\"year\")\n",
    "    .head(10)\n",
    ")"
   ]
  },
  {
   "cell_type": "markdown",
   "metadata": {},
   "source": [
    "### Panel Visualization Functions"
   ]
  },
  {
   "cell_type": "code",
   "execution_count": 37,
   "metadata": {},
   "outputs": [],
   "source": [
    "# Define Panel visualization functions\n",
    "def neighbourhood_map():\n",
    "    \"\"\"Neighbourhood Map\"\"\"\n",
    "    map = px.scatter_mapbox(\n",
    "        avg_value_neigh_df,\n",
    "        lat=\"lat\",\n",
    "        lon=\"lon\",\n",
    "        color=\"average_house_value\",\n",
    "        size=\"average_house_value\",\n",
    "        zoom= 10,\n",
    "        width = 1200,\n",
    "        height = 800,\n",
    "        color_continuous_scale=px.colors.diverging.Tealrose,\n",
    "        title = 'Average House Values in Toronoto',\n",
    "        hover_name = \"neighbourhood\",\n",
    "        hover_data = [\"average_house_value\",\"shelter_costs_owned\",\"shelter_costs_rented\",\"single_detached_house\",\"apartment_five_storeys_plus\",\"movable_dwelling\",\"semi_detached_house\",\"row_house\",\"duplex\",\"apartment_five_storeys_less\",\"other_house\",\"lat\",\"lon\"]\n",
    "    )\n",
    "    return map"
   ]
  },
  {
   "cell_type": "code",
   "execution_count": 38,
   "metadata": {},
   "outputs": [],
   "source": [
    "def create_bar_chart(data, title, xlabel, ylabel, color):\n",
    "    \"\"\"\n",
    "    Create a barplot based in the data argument.\n",
    "    \"\"\"\n",
    "    fig = plt.figure()\n",
    "    fig, ax = plt.subplots()\n",
    "    ax = data.plot(kind='bar',title=title,color=color)\n",
    "    ax.set_xlabel(xlabel)\n",
    "    ax.set_ylabel(ylabel)\n",
    "    plt.close()\n",
    "    return fig"
   ]
  },
  {
   "cell_type": "code",
   "execution_count": 39,
   "metadata": {},
   "outputs": [],
   "source": [
    "def create_line_chart(data, title, xlabel, ylabel, color):\n",
    "    \"\"\"\n",
    "    Create a line chart based in the data argument.\n",
    "    \"\"\"\n",
    "    fig = plt.figure()\n",
    "    fig, ax = plt.subplots()\n",
    "    ax = data.plot(kind='line',title=title,color=color)\n",
    "    ax.set_xlabel(xlabel)\n",
    "    ax.set_ylabel(ylabel)\n",
    "    plt.close()\n",
    "    return fig"
   ]
  },
  {
   "cell_type": "code",
   "execution_count": 40,
   "metadata": {},
   "outputs": [],
   "source": [
    "def average_house_value():\n",
    "    \"\"\"Average house values per year.\"\"\"\n",
    "    fig = plt.figure()\n",
    "    ax = avg_house_value_per_year_df.plot(kind='line',title=\"Average House Value in Toronto\")\n",
    "    ax.set_xlabel(\"Year\")\n",
    "    ax.set_ylabel(\"Avg. House Value\")\n",
    "    plt.close()\n",
    "    return fig "
   ]
  },
  {
   "cell_type": "code",
   "execution_count": 41,
   "metadata": {},
   "outputs": [],
   "source": [
    "def average_value_by_neighbourhood():\n",
    "    \"\"\"Average house values by neighbourhood.\"\"\"\n",
    "    avg_value_by_neigh = avg_house_value_neigh_df.hvplot(\n",
    "        kind='line',\n",
    "        x='year',\n",
    "        y='average_house_value',\n",
    "        groupby='neighbourhood',\n",
    "        xlabel='Year',\n",
    "        ylabel ='Avg. House Value',\n",
    "        width=700, \n",
    "        height=400\n",
    "    )\n",
    "    return avg_value_by_neigh"
   ]
  },
  {
   "cell_type": "code",
   "execution_count": 42,
   "metadata": {},
   "outputs": [],
   "source": [
    "def number_dwelling_types():\n",
    "    \"\"\"Number of dwelling types per year\"\"\"\n",
    "    no_dwell_type = to_data_without_index.hvplot(\n",
    "        kind='bar',\n",
    "        x='year',\n",
    "        y=('single_detached_house','apartment_five_storeys_plus','movable_dwelling','semi_detached_house','semi_detached_house','row_house','duplex','apartment_five_storeys_less','other_house'),\n",
    "        rot=90, \n",
    "        groupby='neighbourhood',\n",
    "        xlabel='Year',\n",
    "        ylabel ='Dwelling Type Units',\n",
    "        width=700, \n",
    "        height=600\n",
    "    )\n",
    "    return no_dwell_type"
   ]
  },
  {
   "cell_type": "code",
   "execution_count": 43,
   "metadata": {},
   "outputs": [],
   "source": [
    "def average_house_value_snapshot():\n",
    "    \"\"\"Average house value for all Toronto's neighbourhoods per year.\"\"\"\n",
    "    avg_house_neigh = px.bar(\n",
    "        to_data,\n",
    "        x=\"neighbourhood\",\n",
    "        y=\"average_house_value\",\n",
    "        color=\"average_house_value\",\n",
    "        facet_row=to_data.index,\n",
    "        width=1000,\n",
    "        height=1000,\n",
    "        title = \"Average House Values in Toronto per Neighbourhood\",\n",
    "        labels={\n",
    "            \"neighbourhood\": \"Neighbourhood\",\n",
    "            \"average_house_value\": \"Avg. House Value\",\n",
    "            \"year\": \"Year\"\n",
    "            },\n",
    "    )\n",
    "    return avg_house_neigh "
   ]
  },
  {
   "cell_type": "code",
   "execution_count": 44,
   "metadata": {},
   "outputs": [],
   "source": [
    "def top_most_expensive_neighbourhoods():\n",
    "    \"\"\"Top 10 most expensive neighbourhoods.\"\"\"\n",
    "    top_10_exp_neigh = top_10_expensive_df.hvplot(\n",
    "        kind='bar',\n",
    "        x='neighbourhood',\n",
    "        y='average_house_value',\n",
    "        rot=90,\n",
    "        xlabel='Neighbourhood',\n",
    "        ylabel ='Avg. House Value',\n",
    "        title = 'Top 10 most expensive neighbourhoods',\n",
    "        width=800, \n",
    "        height=600\n",
    "    )\n",
    "    return top_10_exp_neigh"
   ]
  },
  {
   "cell_type": "code",
   "execution_count": 45,
   "metadata": {},
   "outputs": [],
   "source": [
    "def sunburts_cost_analysis():\n",
    "    \"\"\"Sunburst chart to conduct a costs analysis of most expensive neighbourhoods in Toronto per year.\"\"\"\n",
    "    sunburst_plot = px.sunburst(\n",
    "        cost_analysis_top_neigh_df, \n",
    "        path=[\"year\", 'neighbourhood'], \n",
    "        values='average_house_value',\n",
    "        title = \"Cost Analysis of Most Expensive Neighbourhoods in Toronto per Year\",\n",
    "        color = \"shelter_costs_owned\",\n",
    "        width = 1000,\n",
    "        height = 800,\n",
    "        color_continuous_scale=px.colors.diverging.Tealrose\n",
    "    )\n",
    "    return sunburst_plot"
   ]
  },
  {
   "cell_type": "markdown",
   "metadata": {},
   "source": [
    "## Panel Dashboard\n",
    "\n",
    "In this section, you will combine all of the plots into a single dashboard view using Panel. Be creative with your dashboard design!"
   ]
  },
  {
   "cell_type": "code",
   "execution_count": 46,
   "metadata": {},
   "outputs": [
    {
     "data": {
      "text/plain": [
       "<Figure size 432x288 with 0 Axes>"
      ]
     },
     "metadata": {},
     "output_type": "display_data"
    },
    {
     "data": {
      "text/plain": [
       "<Figure size 432x288 with 0 Axes>"
      ]
     },
     "metadata": {},
     "output_type": "display_data"
    },
    {
     "data": {
      "text/plain": [
       "<Figure size 432x288 with 0 Axes>"
      ]
     },
     "metadata": {},
     "output_type": "display_data"
    },
    {
     "data": {
      "text/plain": [
       "<Figure size 432x288 with 0 Axes>"
      ]
     },
     "metadata": {},
     "output_type": "display_data"
    },
    {
     "data": {
      "text/plain": [
       "<Figure size 432x288 with 0 Axes>"
      ]
     },
     "metadata": {},
     "output_type": "display_data"
    },
    {
     "data": {
      "text/plain": [
       "<Figure size 432x288 with 0 Axes>"
      ]
     },
     "metadata": {},
     "output_type": "display_data"
    }
   ],
   "source": [
    "# Create a Title for the Dashboard\n",
    "# YOUR CODE HERE!\n",
    "\n",
    "# Define a welcome text\n",
    "welcom_tab = pn.Column(\n",
    "    'The Dashboard presents a visual analysis of historical house values, dwelling types per Neighbourhodd and dwelling costs in Toronto according to census data from 2001 to 2016. You can navigate through the tabs above to explore more details about the evolution of the real estate market over these years',\n",
    "    neighbourhood_map()\n",
    ")\n",
    "\n",
    "# Create a tab layout for the dashboard\n",
    "yearly_market_tab =  pn.Column(\n",
    "    pn.Row(create_bar_chart(dwell_types_per_year_df.loc[2001], \"Dwelling Types in Toronto in 2001\", \"2001\", \"Dwelling Type Units\", \"red\"),\n",
    "           create_bar_chart(dwell_types_per_year_df.loc[2006], \"Dwelling Types in Toronto in 2006\", \"2006\", \"Dwelling Type Units\", \"blue\")),\n",
    "    pn.Row(create_bar_chart(dwell_types_per_year_df.loc[2011], \"Dwelling Types in Toronto in 2011\", \"2011\", \"Dwelling Type Units\", \"orange\"),\n",
    "           create_bar_chart(dwell_types_per_year_df.loc[2016], \"Dwelling Types in Toronto in 2016\", \"2016\", \"Dwelling Type Units\", \"magenta\"))\n",
    ")\n",
    "\n",
    "shelter_cost_tab = pn.Column(\n",
    "    create_line_chart(shelter_costs_per_year_df[\"shelter_costs_owned\"], \"Average Monthly Shelter Cost for Owned Dwellings in Toronto\", \"Year\", \"Avg Monthly Shelter Costs\", \"blue\"),\n",
    "    create_line_chart(shelter_costs_per_year_df[\"shelter_costs_rented\"], \"Average Monthly Shelter Cost for Rented Dwellings in Toronto\", \"Year\", \"Avg Monthly Shelter Costs\", \"orange\"),\n",
    "    average_house_value()\n",
    ")\n",
    "\n",
    "neigh_analysis_tab = pn.Row(\n",
    "    pn.Column(average_value_by_neighbourhood(),number_dwelling_types()),\n",
    "    average_house_value_snapshot()\n",
    ")\n",
    "\n",
    "top_expensive_tab = pn.Row(\n",
    "    top_most_expensive_neighbourhoods(), sunburts_cost_analysis()\n",
    ")\n",
    "\n",
    "# Create the main dashboard\n",
    "\n",
    "all_tabs = pn.Tabs(\n",
    "    (\"Welcome\", welcom_tab),\n",
    "    (\"Yearly Market Analysis\", yearly_market_tab),\n",
    "    (\"Shelter Costs Vs. House Value\", shelter_cost_tab),\n",
    "    (\"Neighbourhood analysis\", neigh_analysis_tab),\n",
    "    (\"Top Expensive Neighbourhoods\", top_expensive_tab)\n",
    ")\n",
    "#dashboard\n",
    "dashboard = pn.Column(\n",
    "    '# Real Estate Analysis of Toronto from 2001 to 2016',\n",
    "    all_tabs\n",
    ")"
   ]
  },
  {
   "cell_type": "markdown",
   "metadata": {},
   "source": [
    "## Serve the Panel Dashboard"
   ]
  },
  {
   "cell_type": "code",
   "execution_count": 47,
   "metadata": {},
   "outputs": [
    {
     "name": "stdout",
     "output_type": "stream",
     "text": [
      "Launching server at http://localhost:65028\n"
     ]
    },
    {
     "data": {
      "text/plain": [
       "<bokeh.server.server.Server at 0x255d5a44188>"
      ]
     },
     "execution_count": 47,
     "metadata": {},
     "output_type": "execute_result"
    }
   ],
   "source": [
    "dashboard.servable().show()\n"
   ]
  },
  {
   "cell_type": "markdown",
   "metadata": {},
   "source": [
    "# Debugging\n",
    "\n",
    "Note: Some of the Plotly express plots may not render in the notebook through the panel functions.\n",
    "\n",
    "However, you can test each plot by uncommenting the following code"
   ]
  },
  {
   "cell_type": "code",
   "execution_count": 98,
   "metadata": {},
   "outputs": [],
   "source": [
    "#neighbourhood_map().show()"
   ]
  },
  {
   "cell_type": "code",
   "execution_count": 154,
   "metadata": {},
   "outputs": [],
   "source": [
    "# create_bar_chart(data, title, xlabel, ylabel, color)\n",
    "\n",
    "# # Bar chart for 2001\n",
    "#create_bar_chart(dwell_types_per_year_df.loc[2001], \"Dwelling Types in Toronto in 2001\", \"2001\", \"Dwelling Type Units\", \"red\")\n",
    "\n",
    "# # Bar chart for 2006\n",
    "#create_bar_chart(dwell_types_per_year_df.loc[2006], \"Dwelling Types in Toronto in 2006\", \"2006\", \"Dwelling Type Units\", \"blue\")\n",
    "\n",
    "# # Bar chart for 2011\n",
    "#create_bar_chart(dwell_types_per_year_df.loc[2011], \"Dwelling Types in Toronto in 2011\", \"2011\", \"Dwelling Type Units\", \"orange\")\n",
    "\n",
    "# # Bar chart for 2016\n",
    "#create_bar_chart(dwell_types_per_year_df.loc[2016], \"Dwelling Types in Toronto in 2016\", \"2016\", \"Dwelling Type Units\", \"magenta\")"
   ]
  },
  {
   "cell_type": "code",
   "execution_count": 100,
   "metadata": {},
   "outputs": [],
   "source": [
    "# create_line_chart(data, title, xlabel, ylabel, color)\n",
    "\n",
    "# # Line chart for owned dwellings\n",
    "#create_line_chart(shelter_costs_per_year_df[\"shelter_costs_owned\"], \"Average Monthly Shelter Cost for Owned Dwellings in Toronto\", \"Year\", \"Avg Monthly Shelter Costs\", \"blue\")\n",
    "\n",
    "# # Line chart for rented dwellings\n",
    "#create_line_chart(shelter_costs_per_year_df[\"shelter_costs_rented\"], \"Average Monthly Shelter Cost for Rented Dwellings in Toronto\", \"Year\", \"Avg Monthly Shelter Costs\", \"orange\")"
   ]
  },
  {
   "cell_type": "code",
   "execution_count": 99,
   "metadata": {},
   "outputs": [],
   "source": [
    "#average_house_value()"
   ]
  },
  {
   "cell_type": "code",
   "execution_count": 29,
   "metadata": {},
   "outputs": [],
   "source": [
    "#average_value_by_neighbourhood()"
   ]
  },
  {
   "cell_type": "code",
   "execution_count": 31,
   "metadata": {},
   "outputs": [],
   "source": [
    "#number_dwelling_types()"
   ]
  },
  {
   "cell_type": "code",
   "execution_count": 35,
   "metadata": {},
   "outputs": [],
   "source": [
    "#average_house_value_snapshot()"
   ]
  },
  {
   "cell_type": "code",
   "execution_count": 38,
   "metadata": {},
   "outputs": [],
   "source": [
    "#top_most_expensive_neighbourhoods()"
   ]
  },
  {
   "cell_type": "code",
   "execution_count": 160,
   "metadata": {},
   "outputs": [],
   "source": [
    "#sunburts_cost_analysis()"
   ]
  }
 ],
 "metadata": {
  "file_extension": ".py",
  "kernelspec": {
   "display_name": "Python [conda env:pyvizenv] *",
   "language": "python",
   "name": "conda-env-pyvizenv-py"
  },
  "language_info": {
   "codemirror_mode": {
    "name": "ipython",
    "version": 3
   },
   "file_extension": ".py",
   "mimetype": "text/x-python",
   "name": "python",
   "nbconvert_exporter": "python",
   "pygments_lexer": "ipython3",
   "version": "3.7.7"
  },
  "mimetype": "text/x-python",
  "name": "python",
  "npconvert_exporter": "python",
  "pygments_lexer": "ipython3",
  "version": 3
 },
 "nbformat": 4,
 "nbformat_minor": 4
}
